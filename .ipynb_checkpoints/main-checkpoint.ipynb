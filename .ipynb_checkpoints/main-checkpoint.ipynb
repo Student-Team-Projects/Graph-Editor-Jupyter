{
 "cells": [
  {
   "cell_type": "code",
   "execution_count": 12,
   "metadata": {},
   "outputs": [
    {
     "data": {
      "application/vnd.jupyter.widget-view+json": {
       "model_id": "f50d0bb22d9c488bb059df27191888ef",
       "version_major": 2,
       "version_minor": 0
      },
      "text/plain": [
       "HBox(children=(VBox(children=(Menu(children=(HBox(children=(SmallButton(icon='plus-circle', layout=Layout(heig…"
      ]
     },
     "metadata": {},
     "output_type": "display_data"
    }
   ],
   "source": [
    "import networkx as nx\n",
    "from src.pygraphedit import edit\n",
    "\n",
    "G = nx.Graph()\n",
    "G.add_node(1)\n",
    "G.add_node(2)\n",
    "G.add_node(3)\n",
    "G.add_edge(1, 2)\n",
    "G.add_edge(2, 3)\n",
    "edit(G)"
   ]
  },
  {
   "cell_type": "code",
   "execution_count": 10,
   "metadata": {},
   "outputs": [
    {
     "name": "stdout",
     "output_type": "stream",
     "text": [
      "Ścieżka do src.pygraphedit: c:\\Users\\roman\\Desktop\\Graph-Editor-Jupyter\\src\\pygraphedit\\__init__.py\n",
      "Ścieżka do pygraphedit: C:\\Users\\roman\\AppData\\Local\\Packages\\PythonSoftwareFoundation.Python.3.11_qbz5n2kfra8p0\\LocalCache\\local-packages\\Python311\\site-packages\\pygraphedit\\__init__.py\n"
     ]
    }
   ],
   "source": [
    "import src.pygraphedit\n",
    "import pygraphedit\n",
    "\n",
    "print(\"Ścieżka do src.pygraphedit:\", src.pygraphedit.__file__)\n",
    "print(\"Ścieżka do pygraphedit:\", pygraphedit.__file__)\n"
   ]
  },
  {
   "cell_type": "code",
   "execution_count": 8,
   "metadata": {},
   "outputs": [
    {
     "name": "stdout",
     "output_type": "stream",
     "text": [
      "[1, 2, 3]\n",
      "[(1, 2), (2, 3)]\n"
     ]
    }
   ],
   "source": [
    "print(G.nodes)\n",
    "print(G.edges)"
   ]
  }
 ],
 "metadata": {
  "kernelspec": {
   "display_name": "Python 3 (ipykernel)",
   "language": "python",
   "name": "python3"
  },
  "language_info": {
   "codemirror_mode": {
    "name": "ipython",
    "version": 3
   },
   "file_extension": ".py",
   "mimetype": "text/x-python",
   "name": "python",
   "nbconvert_exporter": "python",
   "pygments_lexer": "ipython3",
   "version": "3.10.15"
  }
 },
 "nbformat": 4,
 "nbformat_minor": 4
}
