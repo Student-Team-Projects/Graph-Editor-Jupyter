{
 "cells": [
  {
   "cell_type": "code",
   "outputs": [
    {
     "data": {
      "text/plain": "HBox(children=(VBox(children=(Menu(children=(HBox(children=(SmallButton(icon='plus-circle', layout=Layout(heig…",
      "application/vnd.jupyter.widget-view+json": {
       "version_major": 2,
       "version_minor": 0,
       "model_id": "b7c20e4c1dff4bafb844ede4c1f37177"
      }
     },
     "metadata": {},
     "output_type": "display_data"
    }
   ],
   "source": [
    "import networkx as nx\n",
    "from pygraphedit import edit\n",
    "\n",
    "G = nx.Graph()\n",
    "G.add_node(1)\n",
    "G.add_node(2)\n",
    "G.add_node(3)\n",
    "G.add_edge(1, 2)\n",
    "G.add_edge(2, 3)\n",
    "edit(G)"
   ],
   "metadata": {
    "collapsed": false
   },
   "execution_count": 1
  },
  {
   "cell_type": "code",
   "outputs": [
    {
     "name": "stdout",
     "output_type": "stream",
     "text": [
      "[1, 2, 3]\n",
      "[(1, 2), (2, 3)]\n"
     ]
    }
   ],
   "source": [
    "print(G.nodes)\n",
    "print(G.edges)"
   ],
   "metadata": {
    "collapsed": false
   },
   "execution_count": 3
  }
 ],
 "metadata": {
  "kernelspec": {
   "display_name": "Python 3 (ipykernel)",
   "language": "python",
   "name": "python3"
  },
  "language_info": {
   "codemirror_mode": {
    "name": "ipython",
    "version": 3
   },
   "file_extension": ".py",
   "mimetype": "text/x-python",
   "name": "python",
   "nbconvert_exporter": "python",
   "pygments_lexer": "ipython3",
   "version": "3.10.4"
  }
 },
 "nbformat": 4,
 "nbformat_minor": 4
}
