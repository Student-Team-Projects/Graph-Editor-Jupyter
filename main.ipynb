{
 "cells": [
  {
   "cell_type": "markdown",
   "metadata": {},
   "source": [
    "## **Examples**"
   ]
  },
  {
   "cell_type": "markdown",
   "metadata": {},
   "source": [
    "#### Creating and editing a new graph"
   ]
  },
  {
   "cell_type": "code",
   "execution_count": null,
   "metadata": {},
   "outputs": [],
   "source": [
    "import networkx as nx\n",
    "from pygraphedit import edit\n",
    "\n",
    "simple_graph = nx.DiGraph()\n",
    "simple_graph.add_node(1)\n",
    "simple_graph.add_node(2)\n",
    "simple_graph.add_edge(1, 2)\n",
    "\n",
    "# Open simple_graph in the editor \n",
    "edit(simple_graph)"
   ]
  },
  {
   "cell_type": "markdown",
   "metadata": {},
   "source": [
    "### Labels and graph coloring"
   ]
  },
  {
   "cell_type": "code",
   "execution_count": null,
   "metadata": {},
   "outputs": [],
   "source": [
    "import networkx as nx\n",
    "from pygraphedit import edit\n",
    "\n",
    "labeled_graph = nx.DiGraph()\n",
    "\n",
    "# Add nodes with labels (labels can be also edited and added in the editor)\n",
    "labeled_graph.add_node(1, label_name='A')\n",
    "labeled_graph.add_node(2, label_name='B')\n",
    "labeled_graph.add_edge(1, 2)\n",
    "\n",
    "# Add nodes with colors, label with name 'color' (additional colors can be added in the editor)\n",
    "labeled_graph.add_node(3, color='c')\n",
    "labeled_graph.add_node(4, color='g')\n",
    "labeled_graph.add_edge(3, 4)\n",
    "\n",
    "# Define custom colors for labels (otherwise random colors are used)\n",
    "# label_colors={'color label': 'HTML color (Hex RGB or name)'}\n",
    "label_colors={'c' : '#00FFFF', 'g': 'green'} \n",
    "\n",
    "# Open labeled_graph in the editor\n",
    "edit(labeled_graph, label_colors)"
   ]
  },
  {
   "cell_type": "markdown",
   "metadata": {},
   "source": [
    "### Displaying planar representation* of a graph "
   ]
  },
  {
   "cell_type": "markdown",
   "metadata": {},
   "source": [
    "**You can use fancy drawing for 3-connected planar graphs*"
   ]
  },
  {
   "cell_type": "code",
   "execution_count": null,
   "metadata": {},
   "outputs": [],
   "source": [
    "import networkx as nx\n",
    "from pygraphedit import edit\n",
    "\n",
    "planar_graph = nx.DiGraph()\n",
    "planar_graph.add_node(1)\n",
    "planar_graph.add_node(2)\n",
    "planar_graph.add_node(3)\n",
    "planar_graph.add_node(4)\n",
    "\n",
    "planar_graph.add_edge(1, 2)\n",
    "planar_graph.add_edge(2, 3)\n",
    "planar_graph.add_edge(3, 4)\n",
    "planar_graph.add_edge(4, 1)\n",
    "planar_graph.add_edge(1, 3)\n",
    "planar_graph.add_edge(2, 4)\n",
    "\n",
    "# Open planar_graph in the editor\n",
    "edit(planar_graph)\n",
    "\n",
    "# To display planar representation of a graph, in the editor, \n",
    "#   change the drawing mode to 'fancy drawing' (6th button from the left) "
   ]
  }
 ],
 "metadata": {
  "kernelspec": {
   "display_name": "Python 3 (ipykernel)",
   "language": "python",
   "name": "python3"
  },
  "language_info": {
   "codemirror_mode": {
    "name": "ipython",
    "version": 3
   },
   "file_extension": ".py",
   "mimetype": "text/x-python",
   "name": "python",
   "nbconvert_exporter": "python",
   "pygments_lexer": "ipython3",
   "version": "3.10.12"
  }
 },
 "nbformat": 4,
 "nbformat_minor": 4
}
